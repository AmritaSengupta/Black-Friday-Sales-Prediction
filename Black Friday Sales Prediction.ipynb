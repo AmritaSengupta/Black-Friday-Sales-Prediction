{
 "cells": [
  {
   "cell_type": "markdown",
   "metadata": {},
   "source": [
    "### IMPORTING THE REQUIRED LIBRARIES"
   ]
  },
  {
   "cell_type": "code",
   "execution_count": 1,
   "metadata": {},
   "outputs": [],
   "source": [
    "import numpy as np\n",
    "import pandas as pd\n",
    "import matplotlib.pyplot as plt\n",
    "%matplotlib inline"
   ]
  },
  {
   "cell_type": "markdown",
   "metadata": {},
   "source": [
    "### READING THE DATASET"
   ]
  },
  {
   "cell_type": "code",
   "execution_count": 2,
   "metadata": {},
   "outputs": [],
   "source": [
    "train=pd.read_csv('C:/Users/AMRITA/Downloads/train_oSwQCTC/train.csv')\n",
    "test=pd.read_csv('C:/Users/AMRITA/Downloads/test_HujdGe7/test.csv')"
   ]
  },
  {
   "cell_type": "code",
   "execution_count": 3,
   "metadata": {},
   "outputs": [
    {
     "data": {
      "text/html": [
       "<div>\n",
       "<style scoped>\n",
       "    .dataframe tbody tr th:only-of-type {\n",
       "        vertical-align: middle;\n",
       "    }\n",
       "\n",
       "    .dataframe tbody tr th {\n",
       "        vertical-align: top;\n",
       "    }\n",
       "\n",
       "    .dataframe thead th {\n",
       "        text-align: right;\n",
       "    }\n",
       "</style>\n",
       "<table border=\"1\" class=\"dataframe\">\n",
       "  <thead>\n",
       "    <tr style=\"text-align: right;\">\n",
       "      <th></th>\n",
       "      <th>User_ID</th>\n",
       "      <th>Product_ID</th>\n",
       "      <th>Gender</th>\n",
       "      <th>Age</th>\n",
       "      <th>Occupation</th>\n",
       "      <th>City_Category</th>\n",
       "      <th>Stay_In_Current_City_Years</th>\n",
       "      <th>Marital_Status</th>\n",
       "      <th>Product_Category_1</th>\n",
       "      <th>Product_Category_2</th>\n",
       "      <th>Product_Category_3</th>\n",
       "      <th>Purchase</th>\n",
       "    </tr>\n",
       "  </thead>\n",
       "  <tbody>\n",
       "    <tr>\n",
       "      <th>0</th>\n",
       "      <td>1000001</td>\n",
       "      <td>P00069042</td>\n",
       "      <td>F</td>\n",
       "      <td>0-17</td>\n",
       "      <td>10</td>\n",
       "      <td>A</td>\n",
       "      <td>2</td>\n",
       "      <td>0</td>\n",
       "      <td>3</td>\n",
       "      <td>NaN</td>\n",
       "      <td>NaN</td>\n",
       "      <td>8370</td>\n",
       "    </tr>\n",
       "    <tr>\n",
       "      <th>1</th>\n",
       "      <td>1000001</td>\n",
       "      <td>P00248942</td>\n",
       "      <td>F</td>\n",
       "      <td>0-17</td>\n",
       "      <td>10</td>\n",
       "      <td>A</td>\n",
       "      <td>2</td>\n",
       "      <td>0</td>\n",
       "      <td>1</td>\n",
       "      <td>6.0</td>\n",
       "      <td>14.0</td>\n",
       "      <td>15200</td>\n",
       "    </tr>\n",
       "    <tr>\n",
       "      <th>2</th>\n",
       "      <td>1000001</td>\n",
       "      <td>P00087842</td>\n",
       "      <td>F</td>\n",
       "      <td>0-17</td>\n",
       "      <td>10</td>\n",
       "      <td>A</td>\n",
       "      <td>2</td>\n",
       "      <td>0</td>\n",
       "      <td>12</td>\n",
       "      <td>NaN</td>\n",
       "      <td>NaN</td>\n",
       "      <td>1422</td>\n",
       "    </tr>\n",
       "    <tr>\n",
       "      <th>3</th>\n",
       "      <td>1000001</td>\n",
       "      <td>P00085442</td>\n",
       "      <td>F</td>\n",
       "      <td>0-17</td>\n",
       "      <td>10</td>\n",
       "      <td>A</td>\n",
       "      <td>2</td>\n",
       "      <td>0</td>\n",
       "      <td>12</td>\n",
       "      <td>14.0</td>\n",
       "      <td>NaN</td>\n",
       "      <td>1057</td>\n",
       "    </tr>\n",
       "    <tr>\n",
       "      <th>4</th>\n",
       "      <td>1000002</td>\n",
       "      <td>P00285442</td>\n",
       "      <td>M</td>\n",
       "      <td>55+</td>\n",
       "      <td>16</td>\n",
       "      <td>C</td>\n",
       "      <td>4+</td>\n",
       "      <td>0</td>\n",
       "      <td>8</td>\n",
       "      <td>NaN</td>\n",
       "      <td>NaN</td>\n",
       "      <td>7969</td>\n",
       "    </tr>\n",
       "  </tbody>\n",
       "</table>\n",
       "</div>"
      ],
      "text/plain": [
       "   User_ID Product_ID Gender   Age  Occupation City_Category  \\\n",
       "0  1000001  P00069042      F  0-17          10             A   \n",
       "1  1000001  P00248942      F  0-17          10             A   \n",
       "2  1000001  P00087842      F  0-17          10             A   \n",
       "3  1000001  P00085442      F  0-17          10             A   \n",
       "4  1000002  P00285442      M   55+          16             C   \n",
       "\n",
       "  Stay_In_Current_City_Years  Marital_Status  Product_Category_1  \\\n",
       "0                          2               0                   3   \n",
       "1                          2               0                   1   \n",
       "2                          2               0                  12   \n",
       "3                          2               0                  12   \n",
       "4                         4+               0                   8   \n",
       "\n",
       "   Product_Category_2  Product_Category_3  Purchase  \n",
       "0                 NaN                 NaN      8370  \n",
       "1                 6.0                14.0     15200  \n",
       "2                 NaN                 NaN      1422  \n",
       "3                14.0                 NaN      1057  \n",
       "4                 NaN                 NaN      7969  "
      ]
     },
     "execution_count": 3,
     "metadata": {},
     "output_type": "execute_result"
    }
   ],
   "source": [
    "train.head()"
   ]
  },
  {
   "cell_type": "code",
   "execution_count": 4,
   "metadata": {},
   "outputs": [
    {
     "data": {
      "text/html": [
       "<div>\n",
       "<style scoped>\n",
       "    .dataframe tbody tr th:only-of-type {\n",
       "        vertical-align: middle;\n",
       "    }\n",
       "\n",
       "    .dataframe tbody tr th {\n",
       "        vertical-align: top;\n",
       "    }\n",
       "\n",
       "    .dataframe thead th {\n",
       "        text-align: right;\n",
       "    }\n",
       "</style>\n",
       "<table border=\"1\" class=\"dataframe\">\n",
       "  <thead>\n",
       "    <tr style=\"text-align: right;\">\n",
       "      <th></th>\n",
       "      <th>User_ID</th>\n",
       "      <th>Product_ID</th>\n",
       "      <th>Gender</th>\n",
       "      <th>Age</th>\n",
       "      <th>Occupation</th>\n",
       "      <th>City_Category</th>\n",
       "      <th>Stay_In_Current_City_Years</th>\n",
       "      <th>Marital_Status</th>\n",
       "      <th>Product_Category_1</th>\n",
       "      <th>Product_Category_2</th>\n",
       "      <th>Product_Category_3</th>\n",
       "      <th>Purchase</th>\n",
       "    </tr>\n",
       "  </thead>\n",
       "  <tbody>\n",
       "    <tr>\n",
       "      <th>550063</th>\n",
       "      <td>1006033</td>\n",
       "      <td>P00372445</td>\n",
       "      <td>M</td>\n",
       "      <td>51-55</td>\n",
       "      <td>13</td>\n",
       "      <td>B</td>\n",
       "      <td>1</td>\n",
       "      <td>1</td>\n",
       "      <td>20</td>\n",
       "      <td>NaN</td>\n",
       "      <td>NaN</td>\n",
       "      <td>368</td>\n",
       "    </tr>\n",
       "    <tr>\n",
       "      <th>550064</th>\n",
       "      <td>1006035</td>\n",
       "      <td>P00375436</td>\n",
       "      <td>F</td>\n",
       "      <td>26-35</td>\n",
       "      <td>1</td>\n",
       "      <td>C</td>\n",
       "      <td>3</td>\n",
       "      <td>0</td>\n",
       "      <td>20</td>\n",
       "      <td>NaN</td>\n",
       "      <td>NaN</td>\n",
       "      <td>371</td>\n",
       "    </tr>\n",
       "    <tr>\n",
       "      <th>550065</th>\n",
       "      <td>1006036</td>\n",
       "      <td>P00375436</td>\n",
       "      <td>F</td>\n",
       "      <td>26-35</td>\n",
       "      <td>15</td>\n",
       "      <td>B</td>\n",
       "      <td>4+</td>\n",
       "      <td>1</td>\n",
       "      <td>20</td>\n",
       "      <td>NaN</td>\n",
       "      <td>NaN</td>\n",
       "      <td>137</td>\n",
       "    </tr>\n",
       "    <tr>\n",
       "      <th>550066</th>\n",
       "      <td>1006038</td>\n",
       "      <td>P00375436</td>\n",
       "      <td>F</td>\n",
       "      <td>55+</td>\n",
       "      <td>1</td>\n",
       "      <td>C</td>\n",
       "      <td>2</td>\n",
       "      <td>0</td>\n",
       "      <td>20</td>\n",
       "      <td>NaN</td>\n",
       "      <td>NaN</td>\n",
       "      <td>365</td>\n",
       "    </tr>\n",
       "    <tr>\n",
       "      <th>550067</th>\n",
       "      <td>1006039</td>\n",
       "      <td>P00371644</td>\n",
       "      <td>F</td>\n",
       "      <td>46-50</td>\n",
       "      <td>0</td>\n",
       "      <td>B</td>\n",
       "      <td>4+</td>\n",
       "      <td>1</td>\n",
       "      <td>20</td>\n",
       "      <td>NaN</td>\n",
       "      <td>NaN</td>\n",
       "      <td>490</td>\n",
       "    </tr>\n",
       "  </tbody>\n",
       "</table>\n",
       "</div>"
      ],
      "text/plain": [
       "        User_ID Product_ID Gender    Age  Occupation City_Category  \\\n",
       "550063  1006033  P00372445      M  51-55          13             B   \n",
       "550064  1006035  P00375436      F  26-35           1             C   \n",
       "550065  1006036  P00375436      F  26-35          15             B   \n",
       "550066  1006038  P00375436      F    55+           1             C   \n",
       "550067  1006039  P00371644      F  46-50           0             B   \n",
       "\n",
       "       Stay_In_Current_City_Years  Marital_Status  Product_Category_1  \\\n",
       "550063                          1               1                  20   \n",
       "550064                          3               0                  20   \n",
       "550065                         4+               1                  20   \n",
       "550066                          2               0                  20   \n",
       "550067                         4+               1                  20   \n",
       "\n",
       "        Product_Category_2  Product_Category_3  Purchase  \n",
       "550063                 NaN                 NaN       368  \n",
       "550064                 NaN                 NaN       371  \n",
       "550065                 NaN                 NaN       137  \n",
       "550066                 NaN                 NaN       365  \n",
       "550067                 NaN                 NaN       490  "
      ]
     },
     "execution_count": 4,
     "metadata": {},
     "output_type": "execute_result"
    }
   ],
   "source": [
    "train.tail()"
   ]
  },
  {
   "cell_type": "markdown",
   "metadata": {},
   "source": [
    "### CHECKING THE DATA TYPE OF COLUMNS"
   ]
  },
  {
   "cell_type": "code",
   "execution_count": 5,
   "metadata": {},
   "outputs": [
    {
     "name": "stdout",
     "output_type": "stream",
     "text": [
      "<class 'pandas.core.frame.DataFrame'>\n",
      "RangeIndex: 550068 entries, 0 to 550067\n",
      "Data columns (total 12 columns):\n",
      " #   Column                      Non-Null Count   Dtype  \n",
      "---  ------                      --------------   -----  \n",
      " 0   User_ID                     550068 non-null  int64  \n",
      " 1   Product_ID                  550068 non-null  object \n",
      " 2   Gender                      550068 non-null  object \n",
      " 3   Age                         550068 non-null  object \n",
      " 4   Occupation                  550068 non-null  int64  \n",
      " 5   City_Category               550068 non-null  object \n",
      " 6   Stay_In_Current_City_Years  550068 non-null  object \n",
      " 7   Marital_Status              550068 non-null  int64  \n",
      " 8   Product_Category_1          550068 non-null  int64  \n",
      " 9   Product_Category_2          376430 non-null  float64\n",
      " 10  Product_Category_3          166821 non-null  float64\n",
      " 11  Purchase                    550068 non-null  int64  \n",
      "dtypes: float64(2), int64(5), object(5)\n",
      "memory usage: 50.4+ MB\n"
     ]
    }
   ],
   "source": [
    "train.info()"
   ]
  },
  {
   "cell_type": "markdown",
   "metadata": {},
   "source": [
    "### CHECKING FOR DUPLICATE ROWS"
   ]
  },
  {
   "cell_type": "code",
   "execution_count": 6,
   "metadata": {},
   "outputs": [
    {
     "data": {
      "text/plain": [
       "0"
      ]
     },
     "execution_count": 6,
     "metadata": {},
     "output_type": "execute_result"
    }
   ],
   "source": [
    "train.duplicated().sum()"
   ]
  },
  {
   "cell_type": "markdown",
   "metadata": {},
   "source": [
    "### CHECKING FOR MISSING VALUES COLUMN WISE"
   ]
  },
  {
   "cell_type": "code",
   "execution_count": 7,
   "metadata": {},
   "outputs": [
    {
     "data": {
      "text/plain": [
       "User_ID                            0\n",
       "Product_ID                         0\n",
       "Gender                             0\n",
       "Age                                0\n",
       "Occupation                         0\n",
       "City_Category                      0\n",
       "Stay_In_Current_City_Years         0\n",
       "Marital_Status                     0\n",
       "Product_Category_1                 0\n",
       "Product_Category_2            173638\n",
       "Product_Category_3            383247\n",
       "Purchase                           0\n",
       "dtype: int64"
      ]
     },
     "execution_count": 7,
     "metadata": {},
     "output_type": "execute_result"
    }
   ],
   "source": [
    "train.isnull().sum()"
   ]
  },
  {
   "cell_type": "markdown",
   "metadata": {},
   "source": [
    "__So We will drop Product_Category_3 from the dataset__"
   ]
  },
  {
   "cell_type": "code",
   "execution_count": 8,
   "metadata": {},
   "outputs": [],
   "source": [
    "train.drop(columns=['Product_Category_2','Product_Category_3'],inplace=True)\n",
    "test.drop(columns=['Product_Category_2','Product_Category_3'],inplace=True)"
   ]
  },
  {
   "cell_type": "markdown",
   "metadata": {},
   "source": [
    "### CHECKING THE VARIABLE TYPES"
   ]
  },
  {
   "cell_type": "code",
   "execution_count": 9,
   "metadata": {},
   "outputs": [
    {
     "data": {
      "text/plain": [
       "User_ID                        5891\n",
       "Product_ID                     3631\n",
       "Gender                            2\n",
       "Age                               7\n",
       "Occupation                       21\n",
       "City_Category                     3\n",
       "Stay_In_Current_City_Years        5\n",
       "Marital_Status                    2\n",
       "Product_Category_1               20\n",
       "Purchase                      18105\n",
       "dtype: int64"
      ]
     },
     "execution_count": 9,
     "metadata": {},
     "output_type": "execute_result"
    }
   ],
   "source": [
    "train.nunique()"
   ]
  },
  {
   "cell_type": "markdown",
   "metadata": {},
   "source": [
    "__Gender, Age, Occupation, City_Category, Stay_In_Current_City_Years, Marital_Status, Product_Category_1 are  CATEGORICAL variables.__ \n",
    "\n",
    "__User_ID, Product_ID are  QUALITATIVE variables.__\n",
    "\n",
    "__Purchase is  CONTINUOUS variables.__              "
   ]
  },
  {
   "cell_type": "code",
   "execution_count": 10,
   "metadata": {},
   "outputs": [],
   "source": [
    "train.drop(columns=['Product_ID','User_ID'],inplace=True)\n",
    "test.drop(columns=['Product_ID','User_ID'],inplace=True)"
   ]
  },
  {
   "cell_type": "markdown",
   "metadata": {},
   "source": [
    "__Since they are qualitative variables, they cannot be utilized to predict the purchase so we transformed them into numeric.__"
   ]
  },
  {
   "cell_type": "code",
   "execution_count": 11,
   "metadata": {},
   "outputs": [
    {
     "data": {
      "text/html": [
       "<div>\n",
       "<style scoped>\n",
       "    .dataframe tbody tr th:only-of-type {\n",
       "        vertical-align: middle;\n",
       "    }\n",
       "\n",
       "    .dataframe tbody tr th {\n",
       "        vertical-align: top;\n",
       "    }\n",
       "\n",
       "    .dataframe thead th {\n",
       "        text-align: right;\n",
       "    }\n",
       "</style>\n",
       "<table border=\"1\" class=\"dataframe\">\n",
       "  <thead>\n",
       "    <tr style=\"text-align: right;\">\n",
       "      <th></th>\n",
       "      <th>Gender</th>\n",
       "      <th>Age</th>\n",
       "      <th>Occupation</th>\n",
       "      <th>City_Category</th>\n",
       "      <th>Stay_In_Current_City_Years</th>\n",
       "      <th>Marital_Status</th>\n",
       "      <th>Product_Category_1</th>\n",
       "      <th>Purchase</th>\n",
       "    </tr>\n",
       "  </thead>\n",
       "  <tbody>\n",
       "    <tr>\n",
       "      <th>0</th>\n",
       "      <td>F</td>\n",
       "      <td>0-17</td>\n",
       "      <td>10</td>\n",
       "      <td>A</td>\n",
       "      <td>2</td>\n",
       "      <td>0</td>\n",
       "      <td>3</td>\n",
       "      <td>8370</td>\n",
       "    </tr>\n",
       "    <tr>\n",
       "      <th>1</th>\n",
       "      <td>F</td>\n",
       "      <td>0-17</td>\n",
       "      <td>10</td>\n",
       "      <td>A</td>\n",
       "      <td>2</td>\n",
       "      <td>0</td>\n",
       "      <td>1</td>\n",
       "      <td>15200</td>\n",
       "    </tr>\n",
       "    <tr>\n",
       "      <th>2</th>\n",
       "      <td>F</td>\n",
       "      <td>0-17</td>\n",
       "      <td>10</td>\n",
       "      <td>A</td>\n",
       "      <td>2</td>\n",
       "      <td>0</td>\n",
       "      <td>12</td>\n",
       "      <td>1422</td>\n",
       "    </tr>\n",
       "    <tr>\n",
       "      <th>3</th>\n",
       "      <td>F</td>\n",
       "      <td>0-17</td>\n",
       "      <td>10</td>\n",
       "      <td>A</td>\n",
       "      <td>2</td>\n",
       "      <td>0</td>\n",
       "      <td>12</td>\n",
       "      <td>1057</td>\n",
       "    </tr>\n",
       "    <tr>\n",
       "      <th>4</th>\n",
       "      <td>M</td>\n",
       "      <td>55+</td>\n",
       "      <td>16</td>\n",
       "      <td>C</td>\n",
       "      <td>4+</td>\n",
       "      <td>0</td>\n",
       "      <td>8</td>\n",
       "      <td>7969</td>\n",
       "    </tr>\n",
       "    <tr>\n",
       "      <th>...</th>\n",
       "      <td>...</td>\n",
       "      <td>...</td>\n",
       "      <td>...</td>\n",
       "      <td>...</td>\n",
       "      <td>...</td>\n",
       "      <td>...</td>\n",
       "      <td>...</td>\n",
       "      <td>...</td>\n",
       "    </tr>\n",
       "    <tr>\n",
       "      <th>550063</th>\n",
       "      <td>M</td>\n",
       "      <td>51-55</td>\n",
       "      <td>13</td>\n",
       "      <td>B</td>\n",
       "      <td>1</td>\n",
       "      <td>1</td>\n",
       "      <td>20</td>\n",
       "      <td>368</td>\n",
       "    </tr>\n",
       "    <tr>\n",
       "      <th>550064</th>\n",
       "      <td>F</td>\n",
       "      <td>26-35</td>\n",
       "      <td>1</td>\n",
       "      <td>C</td>\n",
       "      <td>3</td>\n",
       "      <td>0</td>\n",
       "      <td>20</td>\n",
       "      <td>371</td>\n",
       "    </tr>\n",
       "    <tr>\n",
       "      <th>550065</th>\n",
       "      <td>F</td>\n",
       "      <td>26-35</td>\n",
       "      <td>15</td>\n",
       "      <td>B</td>\n",
       "      <td>4+</td>\n",
       "      <td>1</td>\n",
       "      <td>20</td>\n",
       "      <td>137</td>\n",
       "    </tr>\n",
       "    <tr>\n",
       "      <th>550066</th>\n",
       "      <td>F</td>\n",
       "      <td>55+</td>\n",
       "      <td>1</td>\n",
       "      <td>C</td>\n",
       "      <td>2</td>\n",
       "      <td>0</td>\n",
       "      <td>20</td>\n",
       "      <td>365</td>\n",
       "    </tr>\n",
       "    <tr>\n",
       "      <th>550067</th>\n",
       "      <td>F</td>\n",
       "      <td>46-50</td>\n",
       "      <td>0</td>\n",
       "      <td>B</td>\n",
       "      <td>4+</td>\n",
       "      <td>1</td>\n",
       "      <td>20</td>\n",
       "      <td>490</td>\n",
       "    </tr>\n",
       "  </tbody>\n",
       "</table>\n",
       "<p>550068 rows × 8 columns</p>\n",
       "</div>"
      ],
      "text/plain": [
       "       Gender    Age  Occupation City_Category Stay_In_Current_City_Years  \\\n",
       "0           F   0-17          10             A                          2   \n",
       "1           F   0-17          10             A                          2   \n",
       "2           F   0-17          10             A                          2   \n",
       "3           F   0-17          10             A                          2   \n",
       "4           M    55+          16             C                         4+   \n",
       "...       ...    ...         ...           ...                        ...   \n",
       "550063      M  51-55          13             B                          1   \n",
       "550064      F  26-35           1             C                          3   \n",
       "550065      F  26-35          15             B                         4+   \n",
       "550066      F    55+           1             C                          2   \n",
       "550067      F  46-50           0             B                         4+   \n",
       "\n",
       "        Marital_Status  Product_Category_1  Purchase  \n",
       "0                    0                   3      8370  \n",
       "1                    0                   1     15200  \n",
       "2                    0                  12      1422  \n",
       "3                    0                  12      1057  \n",
       "4                    0                   8      7969  \n",
       "...                ...                 ...       ...  \n",
       "550063               1                  20       368  \n",
       "550064               0                  20       371  \n",
       "550065               1                  20       137  \n",
       "550066               0                  20       365  \n",
       "550067               1                  20       490  \n",
       "\n",
       "[550068 rows x 8 columns]"
      ]
     },
     "execution_count": 11,
     "metadata": {},
     "output_type": "execute_result"
    }
   ],
   "source": [
    "train"
   ]
  },
  {
   "cell_type": "markdown",
   "metadata": {},
   "source": [
    "### VISUALIZING THE DISTRIBUTION OF THE VARIABLES"
   ]
  },
  {
   "cell_type": "markdown",
   "metadata": {},
   "source": [
    "#### TARGET VARIABLE:"
   ]
  },
  {
   "cell_type": "code",
   "execution_count": 12,
   "metadata": {},
   "outputs": [
    {
     "data": {
      "text/plain": [
       "array([[<matplotlib.axes._subplots.AxesSubplot object at 0x0000020204D99B48>]],\n",
       "      dtype=object)"
      ]
     },
     "execution_count": 12,
     "metadata": {},
     "output_type": "execute_result"
    },
    {
     "data": {
      "image/png": "[encoded data removed]",
      "text/plain": [
       "<Figure size 432x288 with 1 Axes>"
      ]
     },
     "metadata": {
      "needs_background": "light"
     },
     "output_type": "display_data"
    }
   ],
   "source": [
    "train.hist('Purchase')"
   ]
  },
  {
   "cell_type": "markdown",
   "metadata": {},
   "source": [
    "__The target variable is slightly skewed to the right. Predictive modeling can be attempted for this variable.__"
   ]
  },
  {
   "cell_type": "markdown",
   "metadata": {},
   "source": [
    "#### INDEPENDENT VARIABLES"
   ]
  },
  {
   "cell_type": "code",
   "execution_count": 13,
   "metadata": {},
   "outputs": [],
   "source": [
    "def bar_graph(data,predictor):\n",
    "    grouped=data.groupby(predictor)\n",
    "    chart=grouped.size().plot.bar(rot=0, title='Bar Chart showing the size of different '+str(predictor))\n",
    "    chart.set_xlabel(predictor)"
   ]
  },
  {
   "cell_type": "code",
   "execution_count": 14,
   "metadata": {},
   "outputs": [
    {
     "data": {
      "text/plain": [
       "Index(['Gender', 'Age', 'Occupation', 'City_Category',\n",
       "       'Stay_In_Current_City_Years', 'Marital_Status', 'Product_Category_1',\n",
       "       'Purchase'],\n",
       "      dtype='object')"
      ]
     },
     "execution_count": 14,
     "metadata": {},
     "output_type": "execute_result"
    }
   ],
   "source": [
    "train.columns"
   ]
  },
  {
   "cell_type": "code",
   "execution_count": 15,
   "metadata": {},
   "outputs": [
    {
     "data": {
      "image/png": "[encoded data removed]",
      "text/plain": [
       "<Figure size 432x288 with 1 Axes>"
      ]
     },
     "metadata": {
      "needs_background": "light"
     },
     "output_type": "display_data"
    }
   ],
   "source": [
    "bar_graph(train,'Gender')"
   ]
  },
  {
   "cell_type": "code",
   "execution_count": 16,
   "metadata": {},
   "outputs": [
    {
     "data": {
      "image/png": "[encoded data removed]",
      "text/plain": [
       "<Figure size 432x288 with 1 Axes>"
      ]
     },
     "metadata": {
      "needs_background": "light"
     },
     "output_type": "display_data"
    }
   ],
   "source": [
    "bar_graph(train,'Age')"
   ]
  },
  {
   "cell_type": "code",
   "execution_count": 17,
   "metadata": {},
   "outputs": [
    {
     "data": {
      "image/png": "[encoded data removed]",
      "text/plain": [
       "<Figure size 432x288 with 1 Axes>"
      ]
     },
     "metadata": {
      "needs_background": "light"
     },
     "output_type": "display_data"
    }
   ],
   "source": [
    "bar_graph(train,'Occupation')"
   ]
  },
  {
   "cell_type": "code",
   "execution_count": 18,
   "metadata": {},
   "outputs": [
    {
     "data": {
      "image/png": "[encoded data removed]",
      "text/plain": [
       "<Figure size 432x288 with 1 Axes>"
      ]
     },
     "metadata": {
      "needs_background": "light"
     },
     "output_type": "display_data"
    }
   ],
   "source": [
    "bar_graph(train,'City_Category')"
   ]
  },
  {
   "cell_type": "code",
   "execution_count": 19,
   "metadata": {},
   "outputs": [
    {
     "data": {
      "image/png": "[encoded data removed]",
      "text/plain": [
       "<Figure size 432x288 with 1 Axes>"
      ]
     },
     "metadata": {
      "needs_background": "light"
     },
     "output_type": "display_data"
    }
   ],
   "source": [
    "bar_graph(train,'Stay_In_Current_City_Years')"
   ]
  },
  {
   "cell_type": "code",
   "execution_count": 20,
   "metadata": {},
   "outputs": [
    {
     "data": {
      "image/png": "[encoded data removed]",
      "text/plain": [
       "<Figure size 432x288 with 1 Axes>"
      ]
     },
     "metadata": {
      "needs_background": "light"
     },
     "output_type": "display_data"
    }
   ],
   "source": [
    "bar_graph(train,'Marital_Status')"
   ]
  },
  {
   "cell_type": "code",
   "execution_count": 21,
   "metadata": {},
   "outputs": [
    {
     "data": {
      "image/png": "[encoded data removed]",
      "text/plain": [
       "<Figure size 432x288 with 1 Axes>"
      ]
     },
     "metadata": {
      "needs_background": "light"
     },
     "output_type": "display_data"
    }
   ],
   "source": [
    "bar_graph(train,'Product_Category_1')"
   ]
  },
  {
   "cell_type": "markdown",
   "metadata": {},
   "source": [
    "__All the predictors have fairly distributed data points amongst its classes.__"
   ]
  },
  {
   "cell_type": "markdown",
   "metadata": {},
   "source": [
    "### ANALYZING THE RELATIONSHIP BETWEEN THE PREDICTORS AND TARGET VARIABLE ALONGWITH OUTLIER TREATMENT"
   ]
  },
  {
   "cell_type": "markdown",
   "metadata": {},
   "source": [
    "#### USER DEFINED FUNCTIONS:\n",
    "\n",
    "#### 1) ANOVA TEST \n",
    "#### 2) BAR CHART FOR THE MEAN PURCHASE AMONGST THE CLASSES OF THE PREDICTORS"
   ]
  },
  {
   "cell_type": "code",
   "execution_count": 22,
   "metadata": {},
   "outputs": [],
   "source": [
    "def anova_test(data,target,predictor):\n",
    "    data1=data.groupby(predictor)[target].apply(list)\n",
    "    from scipy.stats import f_oneway\n",
    "    AnovaResults = f_oneway(*data1)\n",
    "    if AnovaResults[1]<0.05:\n",
    "        print(str(predictor)+' is related with the target variable : ', AnovaResults[1])\n",
    "    else:\n",
    "        print(str(predictor)+' is NOT related with the target variable : ', AnovaResults[1])\n",
    "  "
   ]
  },
  {
   "cell_type": "code",
   "execution_count": 23,
   "metadata": {},
   "outputs": [],
   "source": [
    "def barplotting(data,target,variable):\n",
    "    variables=list(data[variable].unique())\n",
    "    import matplotlib.pyplot as plt\n",
    "    data1=data.groupby(variable)\n",
    "    data=data1.mean()\n",
    "    plt.bar(x=variables,height=list(data[target]))\n",
    "    plt.title('Bar chart of mean '+ str(target) +' for different '+str(variable) )\n",
    "    plt.xlabel(variable)\n",
    "    plt.ylabel(target)  "
   ]
  },
  {
   "cell_type": "markdown",
   "metadata": {},
   "source": [
    "__IF THE HEIGHT OF THE BARS IN A BARCHART ARE SAME, THEN THE PREDICTOR IS NOT CORRELATED WITH THE TARGET VARIABLE.__"
   ]
  },
  {
   "cell_type": "code",
   "execution_count": 24,
   "metadata": {},
   "outputs": [
    {
     "name": "stdout",
     "output_type": "stream",
     "text": [
      "Gender is related with the target variable :  0.0\n"
     ]
    }
   ],
   "source": [
    "anova_test(train,'Purchase','Gender')"
   ]
  },
  {
   "cell_type": "code",
   "execution_count": 25,
   "metadata": {},
   "outputs": [
    {
     "data": {
      "image/png": "[encoded data removed]",
      "text/plain": [
       "<Figure size 432x288 with 1 Axes>"
      ]
     },
     "metadata": {
      "needs_background": "light"
     },
     "output_type": "display_data"
    }
   ],
   "source": [
    "barplotting(train,'Purchase','Gender')"
   ]
  },
  {
   "cell_type": "code",
   "execution_count": 26,
   "metadata": {},
   "outputs": [
    {
     "data": {
      "text/plain": [
       "<matplotlib.axes._subplots.AxesSubplot at 0x202064ca1c8>"
      ]
     },
     "execution_count": 26,
     "metadata": {},
     "output_type": "execute_result"
    },
    {
     "data": {
      "image/png": "[encoded data removed]",
      "text/plain": [
       "<Figure size 720x288 with 1 Axes>"
      ]
     },
     "metadata": {
      "needs_background": "light"
     },
     "output_type": "display_data"
    }
   ],
   "source": [
    "train.boxplot(column='Purchase', by='Gender', figsize=(10,4))"
   ]
  },
  {
   "cell_type": "code",
   "execution_count": 27,
   "metadata": {},
   "outputs": [
    {
     "name": "stdout",
     "output_type": "stream",
     "text": [
      "Age is related with the target variable :  1.053563939251671e-49\n"
     ]
    }
   ],
   "source": [
    "anova_test(train,'Purchase','Age')"
   ]
  },
  {
   "cell_type": "code",
   "execution_count": 28,
   "metadata": {},
   "outputs": [
    {
     "data": {
      "image/png": "[encoded data removed]",
      "text/plain": [
       "<Figure size 432x288 with 1 Axes>"
      ]
     },
     "metadata": {
      "needs_background": "light"
     },
     "output_type": "display_data"
    }
   ],
   "source": [
    "barplotting(train,'Purchase','Age')"
   ]
  },
  {
   "cell_type": "code",
   "execution_count": 29,
   "metadata": {},
   "outputs": [
    {
     "data": {
      "text/plain": [
       "<matplotlib.axes._subplots.AxesSubplot at 0x20206353448>"
      ]
     },
     "execution_count": 29,
     "metadata": {},
     "output_type": "execute_result"
    },
    {
     "data": {
      "image/png": "[encoded data removed]",
      "text/plain": [
       "<Figure size 720x288 with 1 Axes>"
      ]
     },
     "metadata": {
      "needs_background": "light"
     },
     "output_type": "display_data"
    }
   ],
   "source": [
    "train.boxplot(column='Purchase', by='Age', figsize=(10,4))"
   ]
  },
  {
   "cell_type": "code",
   "execution_count": 30,
   "metadata": {},
   "outputs": [
    {
     "name": "stdout",
     "output_type": "stream",
     "text": [
      "Marital_Status is NOT related with the target variable :  0.7310947526475329\n"
     ]
    }
   ],
   "source": [
    "anova_test(train,'Purchase','Marital_Status')"
   ]
  },
  {
   "cell_type": "code",
   "execution_count": 31,
   "metadata": {},
   "outputs": [
    {
     "data": {
      "image/png": "[encoded data removed]",
      "text/plain": [
       "<Figure size 432x288 with 1 Axes>"
      ]
     },
     "metadata": {
      "needs_background": "light"
     },
     "output_type": "display_data"
    }
   ],
   "source": [
    "barplotting(train,'Purchase','Marital_Status')"
   ]
  },
  {
   "cell_type": "code",
   "execution_count": 32,
   "metadata": {},
   "outputs": [
    {
     "name": "stdout",
     "output_type": "stream",
     "text": [
      "Occupation is related with the target variable :  0.0\n"
     ]
    }
   ],
   "source": [
    "anova_test(train,'Purchase','Occupation')"
   ]
  },
  {
   "cell_type": "code",
   "execution_count": 33,
   "metadata": {},
   "outputs": [
    {
     "data": {
      "image/png": "[encoded data removed]",
      "text/plain": [
       "<Figure size 432x288 with 1 Axes>"
      ]
     },
     "metadata": {
      "needs_background": "light"
     },
     "output_type": "display_data"
    }
   ],
   "source": [
    "barplotting(train,'Purchase','Occupation')"
   ]
  },
  {
   "cell_type": "code",
   "execution_count": 34,
   "metadata": {},
   "outputs": [
    {
     "data": {
      "text/plain": [
       "<matplotlib.axes._subplots.AxesSubplot at 0x20207814308>"
      ]
     },
     "execution_count": 34,
     "metadata": {},
     "output_type": "execute_result"
    },
    {
     "data": {
      "image/png": "[encoded data removed]",
      "text/plain": [
       "<Figure size 720x288 with 1 Axes>"
      ]
     },
     "metadata": {
      "needs_background": "light"
     },
     "output_type": "display_data"
    }
   ],
   "source": [
    "train.boxplot(column='Purchase', by='Occupation', figsize=(10,4))"
   ]
  },
  {
   "cell_type": "code",
   "execution_count": 35,
   "metadata": {},
   "outputs": [
    {
     "name": "stdout",
     "output_type": "stream",
     "text": [
      "City_Category is related with the target variable :  0.0\n"
     ]
    }
   ],
   "source": [
    "anova_test(train,'Purchase','City_Category')"
   ]
  },
  {
   "cell_type": "code",
   "execution_count": 36,
   "metadata": {},
   "outputs": [
    {
     "data": {
      "image/png": "[encoded data removed]",
      "text/plain": [
       "<Figure size 432x288 with 1 Axes>"
      ]
     },
     "metadata": {
      "needs_background": "light"
     },
     "output_type": "display_data"
    }
   ],
   "source": [
    "barplotting(train,'Purchase','City_Category')"
   ]
  },
  {
   "cell_type": "code",
   "execution_count": 37,
   "metadata": {},
   "outputs": [
    {
     "data": {
      "text/plain": [
       "<matplotlib.axes._subplots.AxesSubplot at 0x2020789bd08>"
      ]
     },
     "execution_count": 37,
     "metadata": {},
     "output_type": "execute_result"
    },
    {
     "data": {
      "image/png": "[encoded data removed]",
      "text/plain": [
       "<Figure size 720x288 with 1 Axes>"
      ]
     },
     "metadata": {
      "needs_background": "light"
     },
     "output_type": "display_data"
    }
   ],
   "source": [
    "train.boxplot(column='Purchase', by='City_Category', figsize=(10,4))"
   ]
  },
  {
   "cell_type": "code",
   "execution_count": 38,
   "metadata": {},
   "outputs": [
    {
     "name": "stdout",
     "output_type": "stream",
     "text": [
      "Stay_In_Current_City_Years is related with the target variable :  1.4011435777855407e-07\n"
     ]
    }
   ],
   "source": [
    "anova_test(train,'Purchase','Stay_In_Current_City_Years')"
   ]
  },
  {
   "cell_type": "code",
   "execution_count": 39,
   "metadata": {},
   "outputs": [
    {
     "data": {
      "image/png": "[encoded data removed]",
      "text/plain": [
       "<Figure size 432x288 with 1 Axes>"
      ]
     },
     "metadata": {
      "needs_background": "light"
     },
     "output_type": "display_data"
    }
   ],
   "source": [
    "barplotting(train,'Purchase','Stay_In_Current_City_Years')"
   ]
  },
  {
   "cell_type": "code",
   "execution_count": 40,
   "metadata": {},
   "outputs": [
    {
     "data": {
      "text/plain": [
       "<matplotlib.axes._subplots.AxesSubplot at 0x20207883108>"
      ]
     },
     "execution_count": 40,
     "metadata": {},
     "output_type": "execute_result"
    },
    {
     "data": {
      "image/png": "[encoded data removed]",
      "text/plain": [
       "<Figure size 720x288 with 1 Axes>"
      ]
     },
     "metadata": {
      "needs_background": "light"
     },
     "output_type": "display_data"
    }
   ],
   "source": [
    "train.boxplot(column='Purchase', by='Stay_In_Current_City_Years', figsize=(10,4))"
   ]
  },
  {
   "cell_type": "code",
   "execution_count": 41,
   "metadata": {},
   "outputs": [
    {
     "name": "stdout",
     "output_type": "stream",
     "text": [
      "Product_Category_1 is related with the target variable :  0.0\n"
     ]
    }
   ],
   "source": [
    "anova_test(train,'Purchase','Product_Category_1')"
   ]
  },
  {
   "cell_type": "code",
   "execution_count": 42,
   "metadata": {},
   "outputs": [
    {
     "data": {
      "image/png": "[encoded data removed]",
      "text/plain": [
       "<Figure size 432x288 with 1 Axes>"
      ]
     },
     "metadata": {
      "needs_background": "light"
     },
     "output_type": "display_data"
    }
   ],
   "source": [
    "barplotting(train,'Purchase','Product_Category_1')"
   ]
  },
  {
   "cell_type": "code",
   "execution_count": 43,
   "metadata": {},
   "outputs": [
    {
     "data": {
      "text/plain": [
       "<matplotlib.axes._subplots.AxesSubplot at 0x2020634ef88>"
      ]
     },
     "execution_count": 43,
     "metadata": {},
     "output_type": "execute_result"
    },
    {
     "data": {
      "image/png": "[encoded data removed]",
      "text/plain": [
       "<Figure size 720x288 with 1 Axes>"
      ]
     },
     "metadata": {
      "needs_background": "light"
     },
     "output_type": "display_data"
    }
   ],
   "source": [
    "train.boxplot(column='Purchase', by='Product_Category_1', figsize=(10,4))"
   ]
  },
  {
   "cell_type": "markdown",
   "metadata": {},
   "source": [
    "__FROM ALL THE BOXPLOTS, WE COULD CONCLUDE THAT NONE OF PREDICTORS HAVE ANY OUTLIER IS RELATION TO THE PURCHASE AMOUNT.__\n",
    "\n",
    "__SINCE MARITAL STATUS IS NOT CORRELATED WITH THE PURCHASE, WE WILL REMOVE IT FROM THE DATASET.__"
   ]
  },
  {
   "cell_type": "code",
   "execution_count": 44,
   "metadata": {},
   "outputs": [],
   "source": [
    "train.drop(columns='Marital_Status',inplace=True)"
   ]
  },
  {
   "cell_type": "markdown",
   "metadata": {},
   "source": [
    "### TREATING CATEGORICAL VARIABLES"
   ]
  },
  {
   "cell_type": "markdown",
   "metadata": {},
   "source": [
    "STRING ORDINAL VARIABLES: Age,  Stay_In_Current_City_Years\n",
    "\n",
    "STRING NOMINAL VARIABLES: Gender,  City Category"
   ]
  },
  {
   "cell_type": "markdown",
   "metadata": {},
   "source": [
    "#### ORDINAL"
   ]
  },
  {
   "cell_type": "code",
   "execution_count": 45,
   "metadata": {},
   "outputs": [
    {
     "data": {
      "text/plain": [
       "array(['0-17', '55+', '26-35', '46-50', '51-55', '36-45', '18-25'],\n",
       "      dtype=object)"
      ]
     },
     "execution_count": 45,
     "metadata": {},
     "output_type": "execute_result"
    }
   ],
   "source": [
    "train.Age.unique()"
   ]
  },
  {
   "cell_type": "code",
   "execution_count": 46,
   "metadata": {},
   "outputs": [],
   "source": [
    "train['Age'].replace({'0-17':1,'18-25':2,'26-35':3,'36-45':4,'46-50':5,'51-55':6,'55+':7},inplace=True)\n",
    "test['Age'].replace({'0-17':1,'18-25':2,'26-35':3,'36-45':4,'46-50':5,'51-55':6,'55+':7},inplace=True)"
   ]
  },
  {
   "cell_type": "code",
   "execution_count": 47,
   "metadata": {},
   "outputs": [
    {
     "data": {
      "text/plain": [
       "array(['2', '4+', '3', '1', '0'], dtype=object)"
      ]
     },
     "execution_count": 47,
     "metadata": {},
     "output_type": "execute_result"
    }
   ],
   "source": [
    "train.Stay_In_Current_City_Years.unique()"
   ]
  },
  {
   "cell_type": "code",
   "execution_count": 48,
   "metadata": {},
   "outputs": [],
   "source": [
    "train['Stay_In_Current_City_Years'].replace({'0':1,'1':2, '2':3,'3':4,'4+':5},inplace=True)\n",
    "test['Stay_In_Current_City_Years'].replace({'0':1,'1':2, '2':3,'3':4,'4+':5},inplace=True)"
   ]
  },
  {
   "cell_type": "markdown",
   "metadata": {},
   "source": [
    "#### NOMINAL"
   ]
  },
  {
   "cell_type": "code",
   "execution_count": 49,
   "metadata": {},
   "outputs": [
    {
     "data": {
      "text/plain": [
       "array(['F', 'M'], dtype=object)"
      ]
     },
     "execution_count": 49,
     "metadata": {},
     "output_type": "execute_result"
    }
   ],
   "source": [
    "train.Gender.unique()"
   ]
  },
  {
   "cell_type": "code",
   "execution_count": 50,
   "metadata": {},
   "outputs": [],
   "source": [
    "train['Gender'].replace({'F':0, 'M':1},inplace=True)\n",
    "test['Gender'].replace({'F':0, 'M':1},inplace=True)"
   ]
  },
  {
   "cell_type": "code",
   "execution_count": 51,
   "metadata": {},
   "outputs": [],
   "source": [
    "train=pd.get_dummies(train)\n",
    "test= pd.get_dummies(test)"
   ]
  },
  {
   "cell_type": "code",
   "execution_count": 52,
   "metadata": {},
   "outputs": [
    {
     "data": {
      "text/html": [
       "<div>\n",
       "<style scoped>\n",
       "    .dataframe tbody tr th:only-of-type {\n",
       "        vertical-align: middle;\n",
       "    }\n",
       "\n",
       "    .dataframe tbody tr th {\n",
       "        vertical-align: top;\n",
       "    }\n",
       "\n",
       "    .dataframe thead th {\n",
       "        text-align: right;\n",
       "    }\n",
       "</style>\n",
       "<table border=\"1\" class=\"dataframe\">\n",
       "  <thead>\n",
       "    <tr style=\"text-align: right;\">\n",
       "      <th></th>\n",
       "      <th>Gender</th>\n",
       "      <th>Age</th>\n",
       "      <th>Occupation</th>\n",
       "      <th>Stay_In_Current_City_Years</th>\n",
       "      <th>Product_Category_1</th>\n",
       "      <th>Purchase</th>\n",
       "      <th>City_Category_A</th>\n",
       "      <th>City_Category_B</th>\n",
       "      <th>City_Category_C</th>\n",
       "    </tr>\n",
       "  </thead>\n",
       "  <tbody>\n",
       "    <tr>\n",
       "      <th>0</th>\n",
       "      <td>0</td>\n",
       "      <td>1</td>\n",
       "      <td>10</td>\n",
       "      <td>3</td>\n",
       "      <td>3</td>\n",
       "      <td>8370</td>\n",
       "      <td>1</td>\n",
       "      <td>0</td>\n",
       "      <td>0</td>\n",
       "    </tr>\n",
       "    <tr>\n",
       "      <th>1</th>\n",
       "      <td>0</td>\n",
       "      <td>1</td>\n",
       "      <td>10</td>\n",
       "      <td>3</td>\n",
       "      <td>1</td>\n",
       "      <td>15200</td>\n",
       "      <td>1</td>\n",
       "      <td>0</td>\n",
       "      <td>0</td>\n",
       "    </tr>\n",
       "    <tr>\n",
       "      <th>2</th>\n",
       "      <td>0</td>\n",
       "      <td>1</td>\n",
       "      <td>10</td>\n",
       "      <td>3</td>\n",
       "      <td>12</td>\n",
       "      <td>1422</td>\n",
       "      <td>1</td>\n",
       "      <td>0</td>\n",
       "      <td>0</td>\n",
       "    </tr>\n",
       "    <tr>\n",
       "      <th>3</th>\n",
       "      <td>0</td>\n",
       "      <td>1</td>\n",
       "      <td>10</td>\n",
       "      <td>3</td>\n",
       "      <td>12</td>\n",
       "      <td>1057</td>\n",
       "      <td>1</td>\n",
       "      <td>0</td>\n",
       "      <td>0</td>\n",
       "    </tr>\n",
       "    <tr>\n",
       "      <th>4</th>\n",
       "      <td>1</td>\n",
       "      <td>7</td>\n",
       "      <td>16</td>\n",
       "      <td>5</td>\n",
       "      <td>8</td>\n",
       "      <td>7969</td>\n",
       "      <td>0</td>\n",
       "      <td>0</td>\n",
       "      <td>1</td>\n",
       "    </tr>\n",
       "  </tbody>\n",
       "</table>\n",
       "</div>"
      ],
      "text/plain": [
       "   Gender  Age  Occupation  Stay_In_Current_City_Years  Product_Category_1  \\\n",
       "0       0    1          10                           3                   3   \n",
       "1       0    1          10                           3                   1   \n",
       "2       0    1          10                           3                  12   \n",
       "3       0    1          10                           3                  12   \n",
       "4       1    7          16                           5                   8   \n",
       "\n",
       "   Purchase  City_Category_A  City_Category_B  City_Category_C  \n",
       "0      8370                1                0                0  \n",
       "1     15200                1                0                0  \n",
       "2      1422                1                0                0  \n",
       "3      1057                1                0                0  \n",
       "4      7969                0                0                1  "
      ]
     },
     "execution_count": 52,
     "metadata": {},
     "output_type": "execute_result"
    }
   ],
   "source": [
    "train.head()"
   ]
  },
  {
   "cell_type": "markdown",
   "metadata": {},
   "source": [
    "### SPLITTING THE DATASET"
   ]
  },
  {
   "cell_type": "code",
   "execution_count": 87,
   "metadata": {},
   "outputs": [],
   "source": [
    "Predictor=['Gender', 'Age', 'Occupation', 'City_Category_A','City_Category_B','City_Category_C','Stay_In_Current_City_Years', 'Product_Category_1']\n",
    "TargetVariable='Purchase'\n",
    "x = train[Predictor].values\n",
    "y = train[TargetVariable].values\n",
    "\n",
    "x_testing =test[Predictor].values"
   ]
  },
  {
   "cell_type": "code",
   "execution_count": 88,
   "metadata": {},
   "outputs": [
    {
     "name": "stdout",
     "output_type": "stream",
     "text": [
      "(412551, 8) (137517, 8) (412551,) (137517,)\n"
     ]
    }
   ],
   "source": [
    "from sklearn.model_selection import train_test_split\n",
    "\n",
    "x_train, x_test, y_train, y_test = train_test_split(x, y, test_size=0.25, random_state=42)\n",
    "print(x_train.shape, x_test.shape, y_train.shape, y_test.shape)"
   ]
  },
  {
   "cell_type": "markdown",
   "metadata": {},
   "source": [
    "### APPLYING DIFFERENT ALGORITHMS"
   ]
  },
  {
   "cell_type": "code",
   "execution_count": 86,
   "metadata": {},
   "outputs": [],
   "source": [
    "from sklearn.linear_model import LinearRegression\n",
    "from sklearn.tree import DecisionTreeRegressor\n",
    "from sklearn.ensemble import RandomForestRegressor\n",
    "from sklearn.ensemble import AdaBoostRegressor\n",
    "from xgboost import XGBRegressor\n",
    "from catboost import CatBoostRegressor"
   ]
  },
  {
   "cell_type": "markdown",
   "metadata": {},
   "source": [
    "### ACCURACY MEASURE"
   ]
  },
  {
   "cell_type": "code",
   "execution_count": 56,
   "metadata": {},
   "outputs": [],
   "source": [
    "from sklearn.metrics import mean_squared_error\n",
    "from math import sqrt\n",
    "from sklearn.metrics import r2_score\n"
   ]
  },
  {
   "cell_type": "markdown",
   "metadata": {},
   "source": [
    "### MODELS"
   ]
  },
  {
   "cell_type": "markdown",
   "metadata": {},
   "source": [
    "#### LINEAR REGRESSION"
   ]
  },
  {
   "cell_type": "code",
   "execution_count": 57,
   "metadata": {},
   "outputs": [
    {
     "name": "stdout",
     "output_type": "stream",
     "text": [
      "The value of slope is:  [ 5.12187863e+02  1.07659665e+02  6.41281582e+00 -2.50072920e+13\n",
      " -2.50072920e+13 -2.50072920e+13  7.97495152e+00 -4.38410554e+02]\n",
      "The value of Intercept is:  25007291965549.69\n",
      "r-squared for training data: -5.989791202227621\n",
      "r-squared for testing data: -5.971916378715369\n",
      "Root Mean Squared Error: 4695.853726038594\n"
     ]
    }
   ],
   "source": [
    "lr=LinearRegression()\n",
    "lr.fit(x_train, y_train)\n",
    "train_prediction= lr.predict(x_train)\n",
    "test_prediction=lr.predict(x_test)\n",
    "\n",
    "print('The value of slope is: ',lr.coef_)\n",
    "print('The value of Intercept is: ',lr.intercept_)\n",
    "print('r-squared for training data:',r2_score(train_prediction , y_train))\n",
    "print('r-squared for testing data:',r2_score(test_prediction , y_test))\n",
    "print('Root Mean Squared Error:',sqrt(mean_squared_error(y_test,test_prediction)))"
   ]
  },
  {
   "cell_type": "markdown",
   "metadata": {},
   "source": [
    "#### DECISION TREE"
   ]
  },
  {
   "cell_type": "code",
   "execution_count": 58,
   "metadata": {},
   "outputs": [
    {
     "name": "stdout",
     "output_type": "stream",
     "text": [
      "r-squared for training data: -0.25804911366438454\n",
      "r-squared for testing data: -0.2664183876772843\n",
      "Root Mean Squared Error: 3761.011129753404\n"
     ]
    }
   ],
   "source": [
    "RegModel = DecisionTreeRegressor(max_depth=3,criterion='mse')\n",
    "DT=RegModel.fit(x_train,y_train)\n",
    "train_prediction= DT.predict(x_train)\n",
    "test_prediction= DT.predict(x_test)\n",
    "\n",
    "print('r-squared for training data:',r2_score(train_prediction , y_train))\n",
    "print('r-squared for testing data:',r2_score(test_prediction , y_test))\n",
    "print('Root Mean Squared Error:',sqrt(mean_squared_error(y_test,test_prediction)))"
   ]
  },
  {
   "cell_type": "markdown",
   "metadata": {},
   "source": [
    "#### RANDOM FOREST"
   ]
  },
  {
   "cell_type": "code",
   "execution_count": 59,
   "metadata": {},
   "outputs": [
    {
     "name": "stdout",
     "output_type": "stream",
     "text": [
      "r-squared for training data: -1.2077478009252123\n",
      "r-squared for testing data: -1.2063321534326068\n",
      "Root Mean Squared Error: 4168.605796636985\n"
     ]
    }
   ],
   "source": [
    "RegModel = RandomForestRegressor(max_depth=2, n_estimators=100,criterion='mse')\n",
    "RF=RegModel.fit(x_train,y_train)\n",
    "train_prediction= RF.predict(x_train)\n",
    "test_prediction= RF.predict(x_test)\n",
    "\n",
    "print('r-squared for training data:',r2_score(train_prediction , y_train))\n",
    "print('r-squared for testing data:',r2_score(test_prediction , y_test))\n",
    "print('Root Mean Squared Error:',sqrt(mean_squared_error(y_test,test_prediction)))"
   ]
  },
  {
   "cell_type": "markdown",
   "metadata": {},
   "source": [
    "#### ADABoost"
   ]
  },
  {
   "cell_type": "code",
   "execution_count": 60,
   "metadata": {},
   "outputs": [
    {
     "name": "stdout",
     "output_type": "stream",
     "text": [
      "r-squared for training data: -2.370407073527145\n",
      "r-squared for testing data: -2.364731466372999\n",
      "Root Mean Squared Error: 4307.702969347555\n"
     ]
    }
   ],
   "source": [
    "DTR=DecisionTreeRegressor(max_depth=1)\n",
    "RegModel = AdaBoostRegressor(n_estimators=500, base_estimator=DTR ,learning_rate=0.7)\n",
    "AB=RegModel.fit(x_train,y_train)\n",
    "train_prediction=AB.predict(x_train)\n",
    "test_prediction=AB.predict(x_test)\n",
    "\n",
    "print('r-squared for training data:',r2_score(train_prediction , y_train))\n",
    "print('r-squared for testing data:',r2_score(test_prediction , y_test))\n",
    "print('Root Mean Squared Error:',sqrt(mean_squared_error(y_test,test_prediction)))"
   ]
  },
  {
   "cell_type": "markdown",
   "metadata": {},
   "source": [
    "#### XGBoost"
   ]
  },
  {
   "cell_type": "code",
   "execution_count": 61,
   "metadata": {},
   "outputs": [
    {
     "name": "stdout",
     "output_type": "stream",
     "text": [
      "[12:02:19] WARNING: C:/Users/Administrator/workspace/xgboost-win64_release_1.1.0/src/objective/regression_obj.cu:170: reg:linear is now deprecated in favor of reg:squarederror.\n",
      "[12:04:54] WARNING: C:/Users/Administrator/workspace/xgboost-win64_release_1.1.0/src/objective/regression_obj.cu:170: reg:linear is now deprecated in favor of reg:squarederror.\n",
      "r-squared for training data: 0.4455464442885959\n",
      "r-squared for testing data: 0.43702791145240405\n",
      "Root Mean Squared Error: 3019.1342993815333\n"
     ]
    }
   ],
   "source": [
    "RegModel=XGBRegressor(max_depth=2, learning_rate=0.1, n_estimators=1000, objective='reg:linear', booster='gbtree')\n",
    "XGB=RegModel.fit(x_train,y_train)\n",
    "train_prediction= XGB.predict(x_train)\n",
    "test_prediction= XGB.predict(x_test)\n",
    "\n",
    "print('r-squared for training data:',r2_score(train_prediction , y_train))\n",
    "print('r-squared for testing data:',r2_score(test_prediction , y_test))\n",
    "print('Root Mean Squared Error:',sqrt(mean_squared_error(y_test,test_prediction)))"
   ]
  },
  {
   "cell_type": "code",
   "execution_count": 90,
   "metadata": {},
   "outputs": [
    {
     "name": "stdout",
     "output_type": "stream",
     "text": [
      "0:\tlearn: 4825.7104205\ttotal: 224ms\tremaining: 11s\n",
      "1:\tlearn: 4650.2348088\ttotal: 308ms\tremaining: 7.39s\n",
      "2:\tlearn: 4503.0882081\ttotal: 393ms\tremaining: 6.16s\n",
      "3:\tlearn: 4377.9880821\ttotal: 468ms\tremaining: 5.38s\n",
      "4:\tlearn: 4267.5090832\ttotal: 528ms\tremaining: 4.75s\n",
      "5:\tlearn: 4171.4698606\ttotal: 581ms\tremaining: 4.26s\n",
      "6:\tlearn: 4083.5894151\ttotal: 634ms\tremaining: 3.9s\n",
      "7:\tlearn: 4024.2240491\ttotal: 694ms\tremaining: 3.64s\n",
      "8:\tlearn: 3958.4949015\ttotal: 759ms\tremaining: 3.46s\n",
      "9:\tlearn: 3897.3506813\ttotal: 815ms\tremaining: 3.26s\n",
      "10:\tlearn: 3846.2361541\ttotal: 867ms\tremaining: 3.07s\n",
      "11:\tlearn: 3804.3283667\ttotal: 940ms\tremaining: 2.98s\n",
      "12:\tlearn: 3771.6195614\ttotal: 1s\tremaining: 2.85s\n",
      "13:\tlearn: 3716.7154779\ttotal: 1.05s\tremaining: 2.7s\n",
      "14:\tlearn: 3692.9744535\ttotal: 1.11s\tremaining: 2.58s\n",
      "15:\tlearn: 3655.6754105\ttotal: 1.17s\tremaining: 2.48s\n",
      "16:\tlearn: 3622.6776919\ttotal: 1.22s\tremaining: 2.37s\n",
      "17:\tlearn: 3595.7269371\ttotal: 1.27s\tremaining: 2.26s\n",
      "18:\tlearn: 3562.6908321\ttotal: 1.32s\tremaining: 2.15s\n",
      "19:\tlearn: 3534.0471613\ttotal: 1.37s\tremaining: 2.06s\n",
      "20:\tlearn: 3509.2215829\ttotal: 1.43s\tremaining: 1.98s\n",
      "21:\tlearn: 3487.0917612\ttotal: 1.49s\tremaining: 1.89s\n",
      "22:\tlearn: 3462.5740099\ttotal: 1.53s\tremaining: 1.8s\n",
      "23:\tlearn: 3449.7168851\ttotal: 1.6s\tremaining: 1.73s\n",
      "24:\tlearn: 3430.6324080\ttotal: 1.65s\tremaining: 1.65s\n",
      "25:\tlearn: 3412.3301154\ttotal: 1.7s\tremaining: 1.57s\n",
      "26:\tlearn: 3395.4000917\ttotal: 1.75s\tremaining: 1.49s\n",
      "27:\tlearn: 3386.0430550\ttotal: 1.8s\tremaining: 1.42s\n",
      "28:\tlearn: 3373.0453099\ttotal: 1.87s\tremaining: 1.35s\n",
      "29:\tlearn: 3358.5145817\ttotal: 1.92s\tremaining: 1.28s\n",
      "30:\tlearn: 3347.0936781\ttotal: 1.97s\tremaining: 1.21s\n",
      "31:\tlearn: 3340.9143742\ttotal: 2.03s\tremaining: 1.14s\n",
      "32:\tlearn: 3330.0864067\ttotal: 2.09s\tremaining: 1.07s\n",
      "33:\tlearn: 3323.5539664\ttotal: 2.14s\tremaining: 1.01s\n",
      "34:\tlearn: 3319.0042643\ttotal: 2.19s\tremaining: 938ms\n",
      "35:\tlearn: 3282.7992349\ttotal: 2.24s\tremaining: 872ms\n",
      "36:\tlearn: 3275.7446412\ttotal: 2.3s\tremaining: 809ms\n",
      "37:\tlearn: 3269.7855792\ttotal: 2.35s\tremaining: 743ms\n",
      "38:\tlearn: 3263.1474588\ttotal: 2.4s\tremaining: 677ms\n",
      "39:\tlearn: 3259.3093700\ttotal: 2.46s\tremaining: 614ms\n",
      "40:\tlearn: 3254.2256000\ttotal: 2.52s\tremaining: 553ms\n",
      "41:\tlearn: 3249.7484242\ttotal: 2.57s\tremaining: 490ms\n",
      "42:\tlearn: 3222.8699862\ttotal: 2.62s\tremaining: 426ms\n",
      "43:\tlearn: 3218.1153086\ttotal: 2.67s\tremaining: 365ms\n",
      "44:\tlearn: 3214.4775615\ttotal: 2.74s\tremaining: 304ms\n",
      "45:\tlearn: 3191.7913181\ttotal: 2.79s\tremaining: 242ms\n",
      "46:\tlearn: 3188.5734301\ttotal: 2.84s\tremaining: 181ms\n",
      "47:\tlearn: 3185.7178803\ttotal: 2.9s\tremaining: 121ms\n",
      "48:\tlearn: 3183.9825627\ttotal: 2.95s\tremaining: 60.2ms\n",
      "49:\tlearn: 3165.4609037\ttotal: 3s\tremaining: 0us\n",
      "r-squared for training data: 0.12085564885417677\n",
      "r-squared for testing data: 0.11414336351204424\n",
      "Root Mean Squared Error: 3175.9086050771466\n"
     ]
    }
   ],
   "source": [
    "model=CatBoostRegressor(iterations=50,depth=3,learning_rate=0.1,loss_function='RMSE')\n",
    "cat=model.fit(x_train,y_train)\n",
    "train_prediction= cat.predict(x_train)\n",
    "test_prediction= cat.predict(x_test)\n",
    "\n",
    "print('r-squared for training data:',r2_score(train_prediction , y_train))\n",
    "print('r-squared for testing data:',r2_score(test_prediction , y_test))\n",
    "print('Root Mean Squared Error:',sqrt(mean_squared_error(y_test,test_prediction)))"
   ]
  },
  {
   "cell_type": "markdown",
   "metadata": {},
   "source": [
    "### NORMALIZED DATA"
   ]
  },
  {
   "cell_type": "code",
   "execution_count": 91,
   "metadata": {},
   "outputs": [],
   "source": [
    "from sklearn.preprocessing import MinMaxScaler\n",
    "PredictorScaler=MinMaxScaler()\n",
    "TargetVarScaler=MinMaxScaler()\n",
    "\n",
    "# Storing the fit object for later reference\n",
    "Predictor=['Gender', 'Age', 'Occupation', 'City_Category_A','City_Category_B','City_Category_C','Stay_In_Current_City_Years', 'Product_Category_1']\n",
    "TargetVariable=['Purchase']\n",
    "x = train[Predictor].values\n",
    "y = train[TargetVariable].values\n",
    "\n",
    "PredictorScalerFit=PredictorScaler.fit(x)\n",
    "TargetVarScalerFit=TargetVarScaler.fit(y)\n",
    "\n",
    "# Generating the standardized values of X and y\n",
    "x_normal=PredictorScalerFit.transform(x)\n",
    "y_normal=TargetVarScalerFit.transform(y)\n",
    "\n",
    "\n",
    "# Split the data into training and testing set\n",
    "from sklearn.model_selection import train_test_split\n",
    "x_train, x_test, y_train, y_test = train_test_split(x_normal, y_normal, test_size=0.25, random_state=42)"
   ]
  },
  {
   "cell_type": "markdown",
   "metadata": {},
   "source": [
    "#### LINEAR REGRESSION (NORMALIZED)"
   ]
  },
  {
   "cell_type": "code",
   "execution_count": 63,
   "metadata": {},
   "outputs": [
    {
     "name": "stdout",
     "output_type": "stream",
     "text": [
      "The value of slope is:  [[ 2.13858702e-02  2.69844505e-02  5.35640327e-03 -4.81032761e+08\n",
      "  -4.81032761e+08 -4.81032761e+08  1.33169237e-03 -3.47813430e-01]]\n",
      "The value of Intercept is:  [4.81032762e+08]\n",
      "r-squared for training data: -5.990345366458807\n",
      "r-squared for testing data: -5.972466790307452\n",
      "Root Mean Squared Error: 0.1960772286684898\n"
     ]
    }
   ],
   "source": [
    "lr=LinearRegression()\n",
    "lr.fit(x_train, y_train)\n",
    "train_prediction= lr.predict(x_train)\n",
    "test_prediction=lr.predict(x_test)\n",
    "\n",
    "print('The value of slope is: ',lr.coef_)\n",
    "print('The value of Intercept is: ',lr.intercept_)\n",
    "print('r-squared for training data:',r2_score(train_prediction , y_train))\n",
    "print('r-squared for testing data:',r2_score(test_prediction , y_test))\n",
    "print('Root Mean Squared Error:',sqrt(mean_squared_error(y_test,test_prediction)))"
   ]
  },
  {
   "cell_type": "markdown",
   "metadata": {},
   "source": [
    "#### DECISION TREE (NORMALIZED)"
   ]
  },
  {
   "cell_type": "code",
   "execution_count": 64,
   "metadata": {},
   "outputs": [
    {
     "name": "stdout",
     "output_type": "stream",
     "text": [
      "r-squared for training data: -0.25804911366440897\n",
      "r-squared for testing data: -0.2664183876773092\n",
      "Root Mean Squared Error: 0.15704251241193384\n"
     ]
    }
   ],
   "source": [
    "RegModel = DecisionTreeRegressor(max_depth=3,criterion='mse')\n",
    "DT=RegModel.fit(x_train,y_train)\n",
    "train_prediction= DT.predict(x_train)\n",
    "test_prediction= DT.predict(x_test)\n",
    "\n",
    "print('r-squared for training data:',r2_score(train_prediction , y_train))\n",
    "print('r-squared for testing data:',r2_score(test_prediction , y_test))\n",
    "print('Root Mean Squared Error:',sqrt(mean_squared_error(y_test,test_prediction)))"
   ]
  },
  {
   "cell_type": "markdown",
   "metadata": {},
   "source": [
    "#### RANDOM FOREST (NORMALIZED)"
   ]
  },
  {
   "cell_type": "code",
   "execution_count": 65,
   "metadata": {},
   "outputs": [
    {
     "name": "stderr",
     "output_type": "stream",
     "text": [
      "C:\\Users\\AMRITA\\Anaconda3\\lib\\site-packages\\ipykernel_launcher.py:2: DataConversionWarning: A column-vector y was passed when a 1d array was expected. Please change the shape of y to (n_samples,), for example using ravel().\n",
      "  \n"
     ]
    },
    {
     "name": "stdout",
     "output_type": "stream",
     "text": [
      "r-squared for training data: -1.209230698246607\n",
      "r-squared for testing data: -1.2078092583728663\n",
      "Root Mean Squared Error: 0.17406162095548638\n"
     ]
    }
   ],
   "source": [
    "RegModel = RandomForestRegressor(max_depth=2, n_estimators=100,criterion='mse')\n",
    "RF=RegModel.fit(x_train,y_train)\n",
    "train_prediction= RF.predict(x_train)\n",
    "test_prediction= RF.predict(x_test)\n",
    "\n",
    "print('r-squared for training data:',r2_score(train_prediction , y_train))\n",
    "print('r-squared for testing data:',r2_score(test_prediction , y_test))\n",
    "print('Root Mean Squared Error:',sqrt(mean_squared_error(y_test,test_prediction)))"
   ]
  },
  {
   "cell_type": "markdown",
   "metadata": {},
   "source": [
    "#### ADA BOOST (NORMALIZED)"
   ]
  },
  {
   "cell_type": "code",
   "execution_count": 66,
   "metadata": {},
   "outputs": [
    {
     "name": "stderr",
     "output_type": "stream",
     "text": [
      "C:\\Users\\AMRITA\\Anaconda3\\lib\\site-packages\\sklearn\\utils\\validation.py:73: DataConversionWarning: A column-vector y was passed when a 1d array was expected. Please change the shape of y to (n_samples, ), for example using ravel().\n",
      "  return f(**kwargs)\n"
     ]
    },
    {
     "name": "stdout",
     "output_type": "stream",
     "text": [
      "r-squared for training data: -2.3627503919454087\n",
      "r-squared for testing data: -2.3571236500564883\n",
      "Root Mean Squared Error: 0.17986307601337576\n"
     ]
    }
   ],
   "source": [
    "DTR=DecisionTreeRegressor(max_depth=1)\n",
    "RegModel = AdaBoostRegressor(n_estimators=500, base_estimator=DTR ,learning_rate=0.7)\n",
    "AB=RegModel.fit(x_train,y_train)\n",
    "train_prediction=AB.predict(x_train)\n",
    "test_prediction=AB.predict(x_test)\n",
    "\n",
    "print('r-squared for training data:',r2_score(train_prediction , y_train))\n",
    "print('r-squared for testing data:',r2_score(test_prediction , y_test))\n",
    "print('Root Mean Squared Error:',sqrt(mean_squared_error(y_test,test_prediction)))"
   ]
  },
  {
   "cell_type": "markdown",
   "metadata": {},
   "source": [
    "#### XG Boost (NORMALIZED)"
   ]
  },
  {
   "cell_type": "code",
   "execution_count": 67,
   "metadata": {},
   "outputs": [
    {
     "name": "stdout",
     "output_type": "stream",
     "text": [
      "[12:05:50] WARNING: C:/Users/Administrator/workspace/xgboost-win64_release_1.1.0/src/objective/regression_obj.cu:170: reg:linear is now deprecated in favor of reg:squarederror.\n",
      "[12:08:12] WARNING: C:/Users/Administrator/workspace/xgboost-win64_release_1.1.0/src/objective/regression_obj.cu:170: reg:linear is now deprecated in favor of reg:squarederror.\n",
      "r-squared for training data: 0.44544028203134356\n",
      "r-squared for testing data: 0.43693480644492044\n",
      "Root Mean Squared Error: 0.12608154156882043\n"
     ]
    }
   ],
   "source": [
    "RegModel=XGBRegressor(max_depth=2, learning_rate=0.1, n_estimators=1000, objective='reg:linear', booster='gbtree')\n",
    "XGB=RegModel.fit(x_train,y_train)\n",
    "train_prediction= XGB.predict(x_train)\n",
    "test_prediction= XGB.predict(x_test)\n",
    "\n",
    "print('r-squared for training data:',r2_score(train_prediction , y_train))\n",
    "print('r-squared for testing data:',r2_score(test_prediction , y_test))\n",
    "print('Root Mean Squared Error:',sqrt(mean_squared_error(y_test,test_prediction)))"
   ]
  },
  {
   "cell_type": "code",
   "execution_count": 92,
   "metadata": {},
   "outputs": [
    {
     "name": "stdout",
     "output_type": "stream",
     "text": [
      "0:\tlearn: 0.2014995\ttotal: 61.3ms\tremaining: 3s\n",
      "1:\tlearn: 0.1941724\ttotal: 117ms\tremaining: 2.81s\n",
      "2:\tlearn: 0.1880282\ttotal: 170ms\tremaining: 2.67s\n",
      "3:\tlearn: 0.1828046\ttotal: 219ms\tremaining: 2.52s\n",
      "4:\tlearn: 0.1781915\ttotal: 279ms\tremaining: 2.51s\n",
      "5:\tlearn: 0.1741814\ttotal: 342ms\tremaining: 2.51s\n",
      "6:\tlearn: 0.1705119\ttotal: 393ms\tremaining: 2.41s\n",
      "7:\tlearn: 0.1680331\ttotal: 446ms\tremaining: 2.34s\n",
      "8:\tlearn: 0.1652885\ttotal: 501ms\tremaining: 2.28s\n",
      "9:\tlearn: 0.1627354\ttotal: 562ms\tremaining: 2.25s\n",
      "10:\tlearn: 0.1606011\ttotal: 622ms\tremaining: 2.21s\n",
      "11:\tlearn: 0.1588512\ttotal: 675ms\tremaining: 2.14s\n",
      "12:\tlearn: 0.1574855\ttotal: 736ms\tremaining: 2.1s\n",
      "13:\tlearn: 0.1551929\ttotal: 795ms\tremaining: 2.04s\n",
      "14:\tlearn: 0.1542016\ttotal: 848ms\tremaining: 1.98s\n",
      "15:\tlearn: 0.1526442\ttotal: 900ms\tremaining: 1.91s\n",
      "16:\tlearn: 0.1512663\ttotal: 973ms\tremaining: 1.89s\n",
      "17:\tlearn: 0.1501410\ttotal: 1.03s\tremaining: 1.83s\n",
      "18:\tlearn: 0.1487616\ttotal: 1.09s\tremaining: 1.77s\n",
      "19:\tlearn: 0.1475655\ttotal: 1.15s\tremaining: 1.73s\n",
      "20:\tlearn: 0.1465289\ttotal: 1.21s\tremaining: 1.67s\n",
      "21:\tlearn: 0.1456049\ttotal: 1.27s\tremaining: 1.61s\n",
      "22:\tlearn: 0.1445812\ttotal: 1.32s\tremaining: 1.55s\n",
      "23:\tlearn: 0.1440443\ttotal: 1.37s\tremaining: 1.48s\n",
      "24:\tlearn: 0.1432474\ttotal: 1.42s\tremaining: 1.42s\n",
      "25:\tlearn: 0.1424832\ttotal: 1.48s\tremaining: 1.36s\n",
      "26:\tlearn: 0.1417763\ttotal: 1.53s\tremaining: 1.3s\n",
      "27:\tlearn: 0.1413856\ttotal: 1.58s\tremaining: 1.24s\n",
      "28:\tlearn: 0.1408428\ttotal: 1.65s\tremaining: 1.19s\n",
      "29:\tlearn: 0.1402361\ttotal: 1.72s\tremaining: 1.14s\n",
      "30:\tlearn: 0.1397592\ttotal: 1.78s\tremaining: 1.09s\n",
      "31:\tlearn: 0.1395012\ttotal: 1.83s\tremaining: 1.03s\n",
      "32:\tlearn: 0.1390491\ttotal: 1.9s\tremaining: 978ms\n",
      "33:\tlearn: 0.1387763\ttotal: 1.96s\tremaining: 924ms\n",
      "34:\tlearn: 0.1385863\ttotal: 2.01s\tremaining: 864ms\n",
      "35:\tlearn: 0.1370746\ttotal: 2.08s\tremaining: 809ms\n",
      "36:\tlearn: 0.1367800\ttotal: 2.13s\tremaining: 750ms\n",
      "37:\tlearn: 0.1365312\ttotal: 2.19s\tremaining: 693ms\n",
      "38:\tlearn: 0.1362540\ttotal: 2.25s\tremaining: 636ms\n",
      "39:\tlearn: 0.1360938\ttotal: 2.32s\tremaining: 580ms\n",
      "40:\tlearn: 0.1358815\ttotal: 2.37s\tremaining: 521ms\n",
      "41:\tlearn: 0.1356945\ttotal: 2.43s\tremaining: 463ms\n",
      "42:\tlearn: 0.1345722\ttotal: 2.49s\tremaining: 406ms\n",
      "43:\tlearn: 0.1343737\ttotal: 2.56s\tremaining: 349ms\n",
      "44:\tlearn: 0.1342218\ttotal: 2.62s\tremaining: 291ms\n",
      "45:\tlearn: 0.1332745\ttotal: 2.67s\tremaining: 232ms\n",
      "46:\tlearn: 0.1331401\ttotal: 2.74s\tremaining: 175ms\n",
      "47:\tlearn: 0.1330209\ttotal: 2.81s\tremaining: 117ms\n",
      "48:\tlearn: 0.1329485\ttotal: 2.86s\tremaining: 58.4ms\n",
      "49:\tlearn: 0.1321751\ttotal: 2.92s\tremaining: 0us\n",
      "r-squared for training data: 0.1208556489400957\n",
      "r-squared for testing data: 0.11414336359875665\n",
      "Root Mean Squared Error: 0.13261132427778222\n"
     ]
    }
   ],
   "source": [
    "model=CatBoostRegressor(iterations=50,depth=3,learning_rate=0.1,loss_function='RMSE')\n",
    "cat=model.fit(x_train,y_train)\n",
    "train_prediction= cat.predict(x_train)\n",
    "test_prediction= cat.predict(x_test)\n",
    "\n",
    "print('r-squared for training data:',r2_score(train_prediction , y_train))\n",
    "print('r-squared for testing data:',r2_score(test_prediction , y_test))\n",
    "print('Root Mean Squared Error:',sqrt(mean_squared_error(y_test,test_prediction)))"
   ]
  },
  {
   "cell_type": "markdown",
   "metadata": {},
   "source": [
    "### STANDARDIZED DATA"
   ]
  },
  {
   "cell_type": "code",
   "execution_count": 93,
   "metadata": {},
   "outputs": [],
   "source": [
    "from sklearn.preprocessing import StandardScaler\n",
    "PredictorScaler=StandardScaler()\n",
    "TargetVarScaler=StandardScaler()\n",
    "\n",
    "# Storing the fit object for later reference\n",
    "Predictor=['Gender', 'Age', 'Occupation', 'City_Category_A','City_Category_B','City_Category_C','Stay_In_Current_City_Years', 'Product_Category_1']\n",
    "TargetVariable=['Purchase']\n",
    "x = train[Predictor].values\n",
    "y = train[TargetVariable].values\n",
    "x_testing =test[Predictor].values\n",
    "PredictorScalerFit=PredictorScaler.fit(x)\n",
    "TargetVarScalerFit=TargetVarScaler.fit(y)\n",
    "\n",
    "# Generating the standardized values of X and y\n",
    "x_standard=PredictorScalerFit.transform(x)\n",
    "y_standard=TargetVarScalerFit.transform(y)\n",
    "\n",
    "\n",
    "# Split the data into training and testing set\n",
    "from sklearn.model_selection import train_test_split\n",
    "x_train, x_test, y_train, y_test = train_test_split(x_standard, y_standard, test_size=0.25, random_state=42)\n"
   ]
  },
  {
   "cell_type": "markdown",
   "metadata": {},
   "source": [
    "#### LINEAR REGRESSION (STANDARDIZED)"
   ]
  },
  {
   "cell_type": "code",
   "execution_count": 69,
   "metadata": {},
   "outputs": [
    {
     "name": "stdout",
     "output_type": "stream",
     "text": [
      "The value of slope is:  [[ 4.39640827e-02  2.89231808e-02  8.30050635e-03 -1.08647548e+10\n",
      "  -1.21001782e+10 -1.13495284e+10  2.04772446e-03 -3.43545321e-01]]\n",
      "The value of Intercept is:  [-0.00021696]\n",
      "r-squared for training data: -5.983247509592311\n",
      "r-squared for testing data: -5.965617985240481\n",
      "Root Mean Squared Error: 0.9348635416514173\n"
     ]
    }
   ],
   "source": [
    "lr=LinearRegression()\n",
    "lr.fit(x_train, y_train)\n",
    "train_prediction= lr.predict(x_train)\n",
    "test_prediction=lr.predict(x_test)\n",
    "\n",
    "print('The value of slope is: ',lr.coef_)\n",
    "print('The value of Intercept is: ',lr.intercept_)\n",
    "print('r-squared for training data:',r2_score(train_prediction , y_train))\n",
    "print('r-squared for testing data:',r2_score(test_prediction , y_test))\n",
    "print('Root Mean Squared Error:',sqrt(mean_squared_error(y_test,test_prediction)))"
   ]
  },
  {
   "cell_type": "markdown",
   "metadata": {},
   "source": [
    "#### DECISION TREE (STANDARDIZED)"
   ]
  },
  {
   "cell_type": "code",
   "execution_count": 70,
   "metadata": {},
   "outputs": [
    {
     "name": "stdout",
     "output_type": "stream",
     "text": [
      "r-squared for training data: -0.2580491136643943\n",
      "r-squared for testing data: -0.2664183876772941\n",
      "Root Mean Squared Error: 0.7487488721654413\n"
     ]
    }
   ],
   "source": [
    "RegModel = DecisionTreeRegressor(max_depth=3,criterion='mse')\n",
    "DT=RegModel.fit(x_train,y_train)\n",
    "train_prediction= DT.predict(x_train)\n",
    "test_prediction= DT.predict(x_test)\n",
    "\n",
    "print('r-squared for training data:',r2_score(train_prediction , y_train))\n",
    "print('r-squared for testing data:',r2_score(test_prediction , y_test))\n",
    "print('Root Mean Squared Error:',sqrt(mean_squared_error(y_test,test_prediction)))"
   ]
  },
  {
   "cell_type": "markdown",
   "metadata": {},
   "source": [
    "#### RANDOM FOREST (STANDARDIZED)"
   ]
  },
  {
   "cell_type": "code",
   "execution_count": 71,
   "metadata": {},
   "outputs": [
    {
     "name": "stderr",
     "output_type": "stream",
     "text": [
      "C:\\Users\\AMRITA\\Anaconda3\\lib\\site-packages\\ipykernel_launcher.py:2: DataConversionWarning: A column-vector y was passed when a 1d array was expected. Please change the shape of y to (n_samples,), for example using ravel().\n",
      "  \n"
     ]
    },
    {
     "name": "stdout",
     "output_type": "stream",
     "text": [
      "r-squared for training data: -1.2086058880674106\n",
      "r-squared for testing data: -1.2071894529180232\n",
      "Root Mean Squared Error: 0.829893250114392\n"
     ]
    }
   ],
   "source": [
    "RegModel = RandomForestRegressor(max_depth=2, n_estimators=100,criterion='mse')\n",
    "RF=RegModel.fit(x_train,y_train)\n",
    "train_prediction= RF.predict(x_train)\n",
    "test_prediction= RF.predict(x_test)\n",
    "\n",
    "print('r-squared for training data:',r2_score(train_prediction , y_train))\n",
    "print('r-squared for testing data:',r2_score(test_prediction , y_test))\n",
    "print('Root Mean Squared Error:',sqrt(mean_squared_error(y_test,test_prediction)))"
   ]
  },
  {
   "cell_type": "markdown",
   "metadata": {},
   "source": [
    "#### ADABoost (STANDARDIZED)"
   ]
  },
  {
   "cell_type": "code",
   "execution_count": 72,
   "metadata": {},
   "outputs": [
    {
     "name": "stderr",
     "output_type": "stream",
     "text": [
      "C:\\Users\\AMRITA\\Anaconda3\\lib\\site-packages\\sklearn\\utils\\validation.py:73: DataConversionWarning: A column-vector y was passed when a 1d array was expected. Please change the shape of y to (n_samples, ), for example using ravel().\n",
      "  return f(**kwargs)\n"
     ]
    },
    {
     "name": "stdout",
     "output_type": "stream",
     "text": [
      "r-squared for training data: -2.3561623096364386\n",
      "r-squared for testing data: -2.3505408844888787\n",
      "Root Mean Squared Error: 0.8575361803391282\n"
     ]
    }
   ],
   "source": [
    "DTR=DecisionTreeRegressor(max_depth=1)\n",
    "RegModel = AdaBoostRegressor(n_estimators=500, base_estimator=DTR ,learning_rate=0.7)\n",
    "AB=RegModel.fit(x_train,y_train)\n",
    "train_prediction=AB.predict(x_train)\n",
    "test_prediction=AB.predict(x_test)\n",
    "\n",
    "print('r-squared for training data:',r2_score(train_prediction , y_train))\n",
    "print('r-squared for testing data:',r2_score(test_prediction , y_test))\n",
    "print('Root Mean Squared Error:',sqrt(mean_squared_error(y_test,test_prediction)))"
   ]
  },
  {
   "cell_type": "markdown",
   "metadata": {},
   "source": [
    "#### XGBoost (STANDARDIZED)"
   ]
  },
  {
   "cell_type": "code",
   "execution_count": 73,
   "metadata": {},
   "outputs": [
    {
     "name": "stdout",
     "output_type": "stream",
     "text": [
      "[12:09:15] WARNING: C:/Users/Administrator/workspace/xgboost-win64_release_1.1.0/src/objective/regression_obj.cu:170: reg:linear is now deprecated in favor of reg:squarederror.\n",
      "[12:11:34] WARNING: C:/Users/Administrator/workspace/xgboost-win64_release_1.1.0/src/objective/regression_obj.cu:170: reg:linear is now deprecated in favor of reg:squarederror.\n",
      "r-squared for training data: 0.4455865708678105\n",
      "r-squared for testing data: 0.43704782437279377\n",
      "Root Mean Squared Error: 0.6011714168107726\n"
     ]
    }
   ],
   "source": [
    "RegModel=XGBRegressor(max_depth=2, learning_rate=0.1, n_estimators=1000, objective='reg:linear', booster='gbtree')\n",
    "XGB=RegModel.fit(x_train,y_train)\n",
    "train_prediction= XGB.predict(x_train)\n",
    "test_prediction= XGB.predict(x_test)\n",
    "\n",
    "print('r-squared for training data:',r2_score(train_prediction , y_train))\n",
    "print('r-squared for testing data:',r2_score(test_prediction , y_test))\n",
    "print('Root Mean Squared Error:',sqrt(mean_squared_error(y_test,test_prediction)))"
   ]
  },
  {
   "cell_type": "code",
   "execution_count": 94,
   "metadata": {},
   "outputs": [
    {
     "name": "stdout",
     "output_type": "stream",
     "text": [
      "0:\tlearn: 0.9607111\ttotal: 60.6ms\tremaining: 2.97s\n",
      "1:\tlearn: 0.9257771\ttotal: 114ms\tremaining: 2.74s\n",
      "2:\tlearn: 0.8964829\ttotal: 167ms\tremaining: 2.61s\n",
      "3:\tlearn: 0.8715778\ttotal: 216ms\tremaining: 2.48s\n",
      "4:\tlearn: 0.8495834\ttotal: 275ms\tremaining: 2.48s\n",
      "5:\tlearn: 0.8304637\ttotal: 335ms\tremaining: 2.46s\n",
      "6:\tlearn: 0.8129683\ttotal: 384ms\tremaining: 2.36s\n",
      "7:\tlearn: 0.8011498\ttotal: 436ms\tremaining: 2.29s\n",
      "8:\tlearn: 0.7880643\ttotal: 485ms\tremaining: 2.21s\n",
      "9:\tlearn: 0.7758916\ttotal: 551ms\tremaining: 2.2s\n",
      "10:\tlearn: 0.7657156\ttotal: 604ms\tremaining: 2.14s\n",
      "11:\tlearn: 0.7573725\ttotal: 654ms\tremaining: 2.07s\n",
      "12:\tlearn: 0.7508608\ttotal: 713ms\tremaining: 2.03s\n",
      "13:\tlearn: 0.7399304\ttotal: 772ms\tremaining: 1.98s\n",
      "14:\tlearn: 0.7352040\ttotal: 823ms\tremaining: 1.92s\n",
      "15:\tlearn: 0.7277784\ttotal: 874ms\tremaining: 1.86s\n",
      "16:\tlearn: 0.7212092\ttotal: 928ms\tremaining: 1.8s\n",
      "17:\tlearn: 0.7158438\ttotal: 1s\tremaining: 1.78s\n",
      "18:\tlearn: 0.7092669\ttotal: 1.05s\tremaining: 1.72s\n",
      "19:\tlearn: 0.7035645\ttotal: 1.1s\tremaining: 1.65s\n",
      "20:\tlearn: 0.6986222\ttotal: 1.16s\tremaining: 1.6s\n",
      "21:\tlearn: 0.6942165\ttotal: 1.22s\tremaining: 1.55s\n",
      "22:\tlearn: 0.6893355\ttotal: 1.26s\tremaining: 1.48s\n",
      "23:\tlearn: 0.6867759\ttotal: 1.32s\tremaining: 1.43s\n",
      "24:\tlearn: 0.6829765\ttotal: 1.37s\tremaining: 1.37s\n",
      "25:\tlearn: 0.6793328\ttotal: 1.43s\tremaining: 1.32s\n",
      "26:\tlearn: 0.6759624\ttotal: 1.48s\tremaining: 1.26s\n",
      "27:\tlearn: 0.6740996\ttotal: 1.53s\tremaining: 1.2s\n",
      "28:\tlearn: 0.6715119\ttotal: 1.59s\tremaining: 1.15s\n",
      "29:\tlearn: 0.6686191\ttotal: 1.65s\tremaining: 1.1s\n",
      "30:\tlearn: 0.6663454\ttotal: 1.7s\tremaining: 1.04s\n",
      "31:\tlearn: 0.6651153\ttotal: 1.75s\tremaining: 984ms\n",
      "32:\tlearn: 0.6629596\ttotal: 1.81s\tremaining: 930ms\n",
      "33:\tlearn: 0.6616591\ttotal: 1.89s\tremaining: 888ms\n",
      "34:\tlearn: 0.6607533\ttotal: 1.96s\tremaining: 838ms\n",
      "35:\tlearn: 0.6535456\ttotal: 2.04s\tremaining: 792ms\n",
      "36:\tlearn: 0.6521411\ttotal: 2.11s\tremaining: 740ms\n",
      "37:\tlearn: 0.6509548\ttotal: 2.18s\tremaining: 688ms\n",
      "38:\tlearn: 0.6496333\ttotal: 2.25s\tremaining: 635ms\n",
      "39:\tlearn: 0.6488692\ttotal: 2.34s\tremaining: 585ms\n",
      "40:\tlearn: 0.6478571\ttotal: 2.41s\tremaining: 528ms\n",
      "41:\tlearn: 0.6469658\ttotal: 2.48s\tremaining: 473ms\n",
      "42:\tlearn: 0.6416148\ttotal: 2.57s\tremaining: 419ms\n",
      "43:\tlearn: 0.6406682\ttotal: 2.64s\tremaining: 361ms\n",
      "44:\tlearn: 0.6399440\ttotal: 2.73s\tremaining: 303ms\n",
      "45:\tlearn: 0.6354276\ttotal: 2.79s\tremaining: 243ms\n",
      "46:\tlearn: 0.6347869\ttotal: 2.84s\tremaining: 181ms\n",
      "47:\tlearn: 0.6342185\ttotal: 2.89s\tremaining: 120ms\n",
      "48:\tlearn: 0.6338730\ttotal: 2.95s\tremaining: 60.2ms\n",
      "49:\tlearn: 0.6301857\ttotal: 3s\tremaining: 0us\n",
      "r-squared for training data: 0.12085564915300795\n",
      "r-squared for testing data: 0.11414336380831558\n",
      "Root Mean Squared Error: 0.6322656073128331\n"
     ]
    }
   ],
   "source": [
    "model=CatBoostRegressor(iterations=50,depth=3,learning_rate=0.1,loss_function='RMSE')\n",
    "cat=model.fit(x_train,y_train)\n",
    "train_prediction= cat.predict(x_train)\n",
    "test_prediction= cat.predict(x_test)\n",
    "\n",
    "print('r-squared for training data:',r2_score(train_prediction , y_train))\n",
    "print('r-squared for testing data:',r2_score(test_prediction , y_test))\n",
    "print('Root Mean Squared Error:',sqrt(mean_squared_error(y_test,test_prediction)))"
   ]
  },
  {
   "cell_type": "markdown",
   "metadata": {},
   "source": [
    "__XGBoost on normalized data gave the best results.__"
   ]
  },
  {
   "cell_type": "markdown",
   "metadata": {},
   "source": [
    "### NORMALIZING THE  TEST DATA"
   ]
  },
  {
   "cell_type": "code",
   "execution_count": 95,
   "metadata": {},
   "outputs": [],
   "source": [
    "from sklearn.preprocessing import MinMaxScaler\n",
    "PredictorScaler=MinMaxScaler()\n",
    "TargetVarScaler=MinMaxScaler()\n",
    "\n",
    "# Storing the fit object for later reference\n",
    "Predictor=['Gender', 'Age', 'Occupation', 'City_Category_A','City_Category_B','City_Category_C','Stay_In_Current_City_Years', 'Product_Category_1']\n",
    "TargetVariable=['Purchase']\n",
    "x = train[Predictor].values\n",
    "y = train[TargetVariable].values\n",
    "x_testing =test[Predictor].values\n",
    "\n",
    "PredictorScalerFit=PredictorScaler.fit(x)\n",
    "TargetVarScalerFit=TargetVarScaler.fit(y)\n",
    "PredictorTesting=PredictorScaler.fit(x_testing)\n",
    "\n",
    "# Generating the standardized values of X and y\n",
    "x_normal=PredictorScalerFit.transform(x)\n",
    "y_normal=TargetVarScalerFit.transform(y)\n",
    "x_normal_testing=PredictorTesting.transform(x_testing)\n",
    "\n",
    "# Split the data into training and testing set\n",
    "from sklearn.model_selection import train_test_split\n",
    "x_train, x_test, y_train, y_test = train_test_split(x_normal, y_normal, test_size=0.3, random_state=42)\n"
   ]
  },
  {
   "cell_type": "code",
   "execution_count": 75,
   "metadata": {},
   "outputs": [
    {
     "name": "stdout",
     "output_type": "stream",
     "text": [
      "[12:11:41] WARNING: C:/Users/Administrator/workspace/xgboost-win64_release_1.1.0/src/objective/regression_obj.cu:170: reg:linear is now deprecated in favor of reg:squarederror.\n",
      "[12:13:29] WARNING: C:/Users/Administrator/workspace/xgboost-win64_release_1.1.0/src/objective/regression_obj.cu:170: reg:linear is now deprecated in favor of reg:squarederror.\n"
     ]
    }
   ],
   "source": [
    "RegModel=XGBRegressor(max_depth=2, learning_rate=0.1, n_estimators=1000, objective='reg:linear', booster='gbtree')\n",
    "XGB=RegModel.fit(x_train,y_train)\n",
    "testing_prediction= XGB.predict(x_normal_testing)"
   ]
  },
  {
   "cell_type": "code",
   "execution_count": 97,
   "metadata": {},
   "outputs": [],
   "source": [
    "#testing_prediction= testing_prediction.reshape(testing_prediction.shape[0],-1)\n",
    "testing_prediction= testing_prediction.reshape(-1,1)\n",
    "testing_prediction= TargetVarScalerFit.inverse_transform(testing_prediction)"
   ]
  },
  {
   "cell_type": "code",
   "execution_count": 98,
   "metadata": {},
   "outputs": [
    {
     "data": {
      "text/plain": [
       "array([[13284.37427468],\n",
       "       [ 9999.59632033],\n",
       "       [ 6431.20902097],\n",
       "       ...,\n",
       "       [13284.37427468],\n",
       "       [12825.05362682],\n",
       "       [ 4029.57813878]])"
      ]
     },
     "execution_count": 98,
     "metadata": {},
     "output_type": "execute_result"
    }
   ],
   "source": [
    "testing_prediction"
   ]
  },
  {
   "cell_type": "markdown",
   "metadata": {},
   "source": [
    "### SAVING THE PURCHASE PREDICTIONS "
   ]
  },
  {
   "cell_type": "code",
   "execution_count": 99,
   "metadata": {},
   "outputs": [],
   "source": [
    "test2 =pd.read_csv('C:/Users/AMRITA/Downloads/test_HujdGe7/test.csv')"
   ]
  },
  {
   "cell_type": "code",
   "execution_count": 100,
   "metadata": {},
   "outputs": [
    {
     "data": {
      "text/plain": [
       "Index(['User_ID', 'Product_ID', 'Gender', 'Age', 'Occupation', 'City_Category',\n",
       "       'Stay_In_Current_City_Years', 'Marital_Status', 'Product_Category_1',\n",
       "       'Product_Category_2', 'Product_Category_3'],\n",
       "      dtype='object')"
      ]
     },
     "execution_count": 100,
     "metadata": {},
     "output_type": "execute_result"
    }
   ],
   "source": [
    "test2.columns"
   ]
  },
  {
   "cell_type": "code",
   "execution_count": 101,
   "metadata": {},
   "outputs": [],
   "source": [
    "test2.drop(columns=['Gender', 'Age', 'Occupation', 'City_Category',\n",
    "       'Stay_In_Current_City_Years', 'Marital_Status', 'Product_Category_1',\n",
    "       'Product_Category_2', 'Product_Category_3'],inplace=True)"
   ]
  },
  {
   "cell_type": "code",
   "execution_count": 102,
   "metadata": {},
   "outputs": [],
   "source": [
    "test2['Purchase']=testing_prediction"
   ]
  },
  {
   "cell_type": "code",
   "execution_count": 103,
   "metadata": {},
   "outputs": [],
   "source": [
    "test2= test2[['Purchase','User_ID','Product_ID']]\n",
    "test2.to_csv('Submission_Analytics.csv',index=False)"
   ]
  },
  {
   "cell_type": "code",
   "execution_count": 85,
   "metadata": {},
   "outputs": [],
   "source": []
  },
  {
   "cell_type": "code",
   "execution_count": null,
   "metadata": {},
   "outputs": [],
   "source": []
  }
 ],
 "metadata": {
  "kernelspec": {
   "display_name": "Python 3",
   "language": "python",
   "name": "python3"
  },
  "language_info": {
   "codemirror_mode": {
    "name": "ipython",
    "version": 3
   },
   "file_extension": ".py",
   "mimetype": "text/x-python",
   "name": "python",
   "nbconvert_exporter": "python",
   "pygments_lexer": "ipython3",
   "version": "3.7.4"
  }
 },
 "nbformat": 4,
 "nbformat_minor": 2
}
